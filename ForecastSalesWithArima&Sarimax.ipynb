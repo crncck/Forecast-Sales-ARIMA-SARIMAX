{
 "cells": [
  {
   "cell_type": "markdown",
   "id": "37b3a99a",
   "metadata": {},
   "source": [
    "# Predicting Sales with ARIMA & SARIMAX"
   ]
  },
  {
   "cell_type": "markdown",
   "id": "aef9e3b3",
   "metadata": {},
   "source": [
    "In this project, we will use time series and forecast champagne sales. \n",
    "\n",
    "The dataset is monthly sales of champagne from year 1964 to 1972."
   ]
  },
  {
   "cell_type": "markdown",
   "id": "f0a7e8cc",
   "metadata": {},
   "source": [
    "**Dataset**: https://www.kaggle.com/datasets/anupamshah/perrin-freres-monthly-champagne-sales"
   ]
  },
  {
   "cell_type": "markdown",
   "id": "848cdbce",
   "metadata": {},
   "source": [
    "The data contains 2 columns:\n",
    "- **month**: contains the month data \n",
    "- **Perrin Freres monthly champagne sales millions**: contains the monthly champagne sales values in millions"
   ]
  },
  {
   "cell_type": "markdown",
   "id": "eda1f704",
   "metadata": {},
   "source": [
    "## Importing Libraries"
   ]
  },
  {
   "cell_type": "code",
   "execution_count": 1,
   "id": "1ea7b9d3",
   "metadata": {
    "scrolled": true
   },
   "outputs": [
    {
     "name": "stdout",
     "output_type": "stream",
     "text": [
      "Requirement already satisfied: statsmodels in /Users/cerencicek/opt/anaconda3/lib/python3.8/site-packages (0.12.2)\n",
      "Requirement already satisfied: scipy>=1.1 in /Users/cerencicek/opt/anaconda3/lib/python3.8/site-packages (from statsmodels) (1.7.1)\n",
      "Requirement already satisfied: patsy>=0.5 in /Users/cerencicek/opt/anaconda3/lib/python3.8/site-packages (from statsmodels) (0.5.1)\n",
      "Requirement already satisfied: numpy>=1.15 in /Users/cerencicek/opt/anaconda3/lib/python3.8/site-packages (from statsmodels) (1.21.5)\n",
      "Requirement already satisfied: pandas>=0.21 in /Users/cerencicek/opt/anaconda3/lib/python3.8/site-packages (from statsmodels) (1.2.4)\n",
      "Requirement already satisfied: python-dateutil>=2.7.3 in /Users/cerencicek/opt/anaconda3/lib/python3.8/site-packages (from pandas>=0.21->statsmodels) (2.8.2)\n",
      "Requirement already satisfied: pytz>=2017.3 in /Users/cerencicek/opt/anaconda3/lib/python3.8/site-packages (from pandas>=0.21->statsmodels) (2021.1)\n",
      "Requirement already satisfied: six in /Users/cerencicek/opt/anaconda3/lib/python3.8/site-packages (from patsy>=0.5->statsmodels) (1.16.0)\n"
     ]
    }
   ],
   "source": [
    "!pip install statsmodels"
   ]
  },
  {
   "cell_type": "code",
   "execution_count": 2,
   "id": "c31c482a",
   "metadata": {},
   "outputs": [],
   "source": [
    "import pandas as pd\n",
    "import matplotlib.pyplot as plt\n",
    "import warnings\n",
    "warnings.filterwarnings('ignore')\n",
    "import statsmodels.api as sm\n",
    "from pandas.tseries.offsets import DateOffset\n",
    "from statsmodels.tsa.arima_model import ARIMA\n",
    "from statsmodels.tsa.stattools import adfuller\n",
    "from statsmodels.graphics.tsaplots import plot_pacf, plot_acf"
   ]
  },
  {
   "cell_type": "markdown",
   "id": "fb823a07",
   "metadata": {},
   "source": [
    "## Importing Data"
   ]
  },
  {
   "cell_type": "code",
   "execution_count": 3,
   "id": "dc9de653",
   "metadata": {},
   "outputs": [],
   "source": [
    "df = pd.read_csv('data.csv')"
   ]
  },
  {
   "cell_type": "code",
   "execution_count": 4,
   "id": "0132e12e",
   "metadata": {
    "scrolled": true
   },
   "outputs": [
    {
     "data": {
      "text/html": [
       "<div>\n",
       "<style scoped>\n",
       "    .dataframe tbody tr th:only-of-type {\n",
       "        vertical-align: middle;\n",
       "    }\n",
       "\n",
       "    .dataframe tbody tr th {\n",
       "        vertical-align: top;\n",
       "    }\n",
       "\n",
       "    .dataframe thead th {\n",
       "        text-align: right;\n",
       "    }\n",
       "</style>\n",
       "<table border=\"1\" class=\"dataframe\">\n",
       "  <thead>\n",
       "    <tr style=\"text-align: right;\">\n",
       "      <th></th>\n",
       "      <th>Month</th>\n",
       "      <th>Perrin Freres monthly champagne sales millions ?64-?72</th>\n",
       "    </tr>\n",
       "  </thead>\n",
       "  <tbody>\n",
       "    <tr>\n",
       "      <th>0</th>\n",
       "      <td>1964-01</td>\n",
       "      <td>2815.0</td>\n",
       "    </tr>\n",
       "    <tr>\n",
       "      <th>1</th>\n",
       "      <td>1964-02</td>\n",
       "      <td>2672.0</td>\n",
       "    </tr>\n",
       "    <tr>\n",
       "      <th>2</th>\n",
       "      <td>1964-03</td>\n",
       "      <td>2755.0</td>\n",
       "    </tr>\n",
       "    <tr>\n",
       "      <th>3</th>\n",
       "      <td>1964-04</td>\n",
       "      <td>2721.0</td>\n",
       "    </tr>\n",
       "    <tr>\n",
       "      <th>4</th>\n",
       "      <td>1964-05</td>\n",
       "      <td>2946.0</td>\n",
       "    </tr>\n",
       "  </tbody>\n",
       "</table>\n",
       "</div>"
      ],
      "text/plain": [
       "     Month  Perrin Freres monthly champagne sales millions ?64-?72\n",
       "0  1964-01                                             2815.0     \n",
       "1  1964-02                                             2672.0     \n",
       "2  1964-03                                             2755.0     \n",
       "3  1964-04                                             2721.0     \n",
       "4  1964-05                                             2946.0     "
      ]
     },
     "execution_count": 4,
     "metadata": {},
     "output_type": "execute_result"
    }
   ],
   "source": [
    "df.head()"
   ]
  },
  {
   "cell_type": "markdown",
   "id": "d6355059",
   "metadata": {},
   "source": [
    "## Data Cleaning"
   ]
  },
  {
   "cell_type": "code",
   "execution_count": 5,
   "id": "ac4f7dde",
   "metadata": {},
   "outputs": [
    {
     "data": {
      "text/html": [
       "<div>\n",
       "<style scoped>\n",
       "    .dataframe tbody tr th:only-of-type {\n",
       "        vertical-align: middle;\n",
       "    }\n",
       "\n",
       "    .dataframe tbody tr th {\n",
       "        vertical-align: top;\n",
       "    }\n",
       "\n",
       "    .dataframe thead th {\n",
       "        text-align: right;\n",
       "    }\n",
       "</style>\n",
       "<table border=\"1\" class=\"dataframe\">\n",
       "  <thead>\n",
       "    <tr style=\"text-align: right;\">\n",
       "      <th></th>\n",
       "      <th>Month</th>\n",
       "      <th>Sales</th>\n",
       "    </tr>\n",
       "  </thead>\n",
       "  <tbody>\n",
       "    <tr>\n",
       "      <th>0</th>\n",
       "      <td>1964-01</td>\n",
       "      <td>2815.0</td>\n",
       "    </tr>\n",
       "    <tr>\n",
       "      <th>1</th>\n",
       "      <td>1964-02</td>\n",
       "      <td>2672.0</td>\n",
       "    </tr>\n",
       "    <tr>\n",
       "      <th>2</th>\n",
       "      <td>1964-03</td>\n",
       "      <td>2755.0</td>\n",
       "    </tr>\n",
       "    <tr>\n",
       "      <th>3</th>\n",
       "      <td>1964-04</td>\n",
       "      <td>2721.0</td>\n",
       "    </tr>\n",
       "    <tr>\n",
       "      <th>4</th>\n",
       "      <td>1964-05</td>\n",
       "      <td>2946.0</td>\n",
       "    </tr>\n",
       "  </tbody>\n",
       "</table>\n",
       "</div>"
      ],
      "text/plain": [
       "     Month   Sales\n",
       "0  1964-01  2815.0\n",
       "1  1964-02  2672.0\n",
       "2  1964-03  2755.0\n",
       "3  1964-04  2721.0\n",
       "4  1964-05  2946.0"
      ]
     },
     "execution_count": 5,
     "metadata": {},
     "output_type": "execute_result"
    }
   ],
   "source": [
    "df.columns = ['Month', 'Sales']\n",
    "df.head()"
   ]
  },
  {
   "cell_type": "code",
   "execution_count": 6,
   "id": "97ba479e",
   "metadata": {},
   "outputs": [
    {
     "data": {
      "text/plain": [
       "(107, 2)"
      ]
     },
     "execution_count": 6,
     "metadata": {},
     "output_type": "execute_result"
    }
   ],
   "source": [
    "df.shape"
   ]
  },
  {
   "cell_type": "markdown",
   "id": "0ca0e817",
   "metadata": {},
   "source": [
    "There are 1 missing value in month and 2 values in sales column. We will drop them"
   ]
  },
  {
   "cell_type": "code",
   "execution_count": 7,
   "id": "cd658fd6",
   "metadata": {
    "scrolled": true
   },
   "outputs": [
    {
     "data": {
      "text/plain": [
       "Month    1\n",
       "Sales    2\n",
       "dtype: int64"
      ]
     },
     "execution_count": 7,
     "metadata": {},
     "output_type": "execute_result"
    }
   ],
   "source": [
    "df.isnull().sum()"
   ]
  },
  {
   "cell_type": "code",
   "execution_count": 8,
   "id": "3b3e35e4",
   "metadata": {},
   "outputs": [
    {
     "data": {
      "text/html": [
       "<div>\n",
       "<style scoped>\n",
       "    .dataframe tbody tr th:only-of-type {\n",
       "        vertical-align: middle;\n",
       "    }\n",
       "\n",
       "    .dataframe tbody tr th {\n",
       "        vertical-align: top;\n",
       "    }\n",
       "\n",
       "    .dataframe thead th {\n",
       "        text-align: right;\n",
       "    }\n",
       "</style>\n",
       "<table border=\"1\" class=\"dataframe\">\n",
       "  <thead>\n",
       "    <tr style=\"text-align: right;\">\n",
       "      <th></th>\n",
       "      <th>Month</th>\n",
       "      <th>Sales</th>\n",
       "    </tr>\n",
       "  </thead>\n",
       "  <tbody>\n",
       "    <tr>\n",
       "      <th>102</th>\n",
       "      <td>1972-07</td>\n",
       "      <td>4298.0</td>\n",
       "    </tr>\n",
       "    <tr>\n",
       "      <th>103</th>\n",
       "      <td>1972-08</td>\n",
       "      <td>1413.0</td>\n",
       "    </tr>\n",
       "    <tr>\n",
       "      <th>104</th>\n",
       "      <td>1972-09</td>\n",
       "      <td>5877.0</td>\n",
       "    </tr>\n",
       "    <tr>\n",
       "      <th>105</th>\n",
       "      <td>NaN</td>\n",
       "      <td>NaN</td>\n",
       "    </tr>\n",
       "    <tr>\n",
       "      <th>106</th>\n",
       "      <td>Perrin Freres monthly champagne sales millions...</td>\n",
       "      <td>NaN</td>\n",
       "    </tr>\n",
       "  </tbody>\n",
       "</table>\n",
       "</div>"
      ],
      "text/plain": [
       "                                                 Month   Sales\n",
       "102                                            1972-07  4298.0\n",
       "103                                            1972-08  1413.0\n",
       "104                                            1972-09  5877.0\n",
       "105                                                NaN     NaN\n",
       "106  Perrin Freres monthly champagne sales millions...     NaN"
      ]
     },
     "execution_count": 8,
     "metadata": {},
     "output_type": "execute_result"
    }
   ],
   "source": [
    "df.tail()"
   ]
  },
  {
   "cell_type": "code",
   "execution_count": 9,
   "id": "d990886a",
   "metadata": {},
   "outputs": [],
   "source": [
    "df.drop(106, axis=0, inplace=True)"
   ]
  },
  {
   "cell_type": "code",
   "execution_count": 10,
   "id": "cf40904c",
   "metadata": {},
   "outputs": [],
   "source": [
    "df.drop(105, axis=0, inplace=True)"
   ]
  },
  {
   "cell_type": "code",
   "execution_count": 11,
   "id": "cf7d9db0",
   "metadata": {},
   "outputs": [
    {
     "data": {
      "text/plain": [
       "(105, 2)"
      ]
     },
     "execution_count": 11,
     "metadata": {},
     "output_type": "execute_result"
    }
   ],
   "source": [
    "df.shape"
   ]
  },
  {
   "cell_type": "markdown",
   "id": "08e8e5c5",
   "metadata": {},
   "source": [
    "Month column contains date format so we will convert it to datetime datatype"
   ]
  },
  {
   "cell_type": "code",
   "execution_count": 12,
   "id": "dd4b8a5a",
   "metadata": {},
   "outputs": [
    {
     "data": {
      "text/plain": [
       "Month     object\n",
       "Sales    float64\n",
       "dtype: object"
      ]
     },
     "execution_count": 12,
     "metadata": {},
     "output_type": "execute_result"
    }
   ],
   "source": [
    "df.dtypes"
   ]
  },
  {
   "cell_type": "code",
   "execution_count": 13,
   "id": "073854e8",
   "metadata": {},
   "outputs": [],
   "source": [
    "df['Month'] = pd.to_datetime(df['Month'])"
   ]
  },
  {
   "cell_type": "code",
   "execution_count": 14,
   "id": "39a4841b",
   "metadata": {},
   "outputs": [
    {
     "data": {
      "text/plain": [
       "Month    datetime64[ns]\n",
       "Sales           float64\n",
       "dtype: object"
      ]
     },
     "execution_count": 14,
     "metadata": {},
     "output_type": "execute_result"
    }
   ],
   "source": [
    "df.dtypes"
   ]
  },
  {
   "cell_type": "code",
   "execution_count": 15,
   "id": "3eaecb09",
   "metadata": {},
   "outputs": [
    {
     "data": {
      "text/html": [
       "<div>\n",
       "<style scoped>\n",
       "    .dataframe tbody tr th:only-of-type {\n",
       "        vertical-align: middle;\n",
       "    }\n",
       "\n",
       "    .dataframe tbody tr th {\n",
       "        vertical-align: top;\n",
       "    }\n",
       "\n",
       "    .dataframe thead th {\n",
       "        text-align: right;\n",
       "    }\n",
       "</style>\n",
       "<table border=\"1\" class=\"dataframe\">\n",
       "  <thead>\n",
       "    <tr style=\"text-align: right;\">\n",
       "      <th></th>\n",
       "      <th>Month</th>\n",
       "      <th>Sales</th>\n",
       "    </tr>\n",
       "  </thead>\n",
       "  <tbody>\n",
       "    <tr>\n",
       "      <th>0</th>\n",
       "      <td>1964-01-01</td>\n",
       "      <td>2815.0</td>\n",
       "    </tr>\n",
       "    <tr>\n",
       "      <th>1</th>\n",
       "      <td>1964-02-01</td>\n",
       "      <td>2672.0</td>\n",
       "    </tr>\n",
       "    <tr>\n",
       "      <th>2</th>\n",
       "      <td>1964-03-01</td>\n",
       "      <td>2755.0</td>\n",
       "    </tr>\n",
       "    <tr>\n",
       "      <th>3</th>\n",
       "      <td>1964-04-01</td>\n",
       "      <td>2721.0</td>\n",
       "    </tr>\n",
       "    <tr>\n",
       "      <th>4</th>\n",
       "      <td>1964-05-01</td>\n",
       "      <td>2946.0</td>\n",
       "    </tr>\n",
       "  </tbody>\n",
       "</table>\n",
       "</div>"
      ],
      "text/plain": [
       "       Month   Sales\n",
       "0 1964-01-01  2815.0\n",
       "1 1964-02-01  2672.0\n",
       "2 1964-03-01  2755.0\n",
       "3 1964-04-01  2721.0\n",
       "4 1964-05-01  2946.0"
      ]
     },
     "execution_count": 15,
     "metadata": {},
     "output_type": "execute_result"
    }
   ],
   "source": [
    "df.head()"
   ]
  },
  {
   "cell_type": "markdown",
   "id": "d94db640",
   "metadata": {},
   "source": [
    "We will use month values as index value"
   ]
  },
  {
   "cell_type": "code",
   "execution_count": 16,
   "id": "c3749492",
   "metadata": {},
   "outputs": [],
   "source": [
    "df.set_index('Month', inplace=True)"
   ]
  },
  {
   "cell_type": "code",
   "execution_count": 17,
   "id": "59e1b279",
   "metadata": {
    "scrolled": true
   },
   "outputs": [
    {
     "data": {
      "text/html": [
       "<div>\n",
       "<style scoped>\n",
       "    .dataframe tbody tr th:only-of-type {\n",
       "        vertical-align: middle;\n",
       "    }\n",
       "\n",
       "    .dataframe tbody tr th {\n",
       "        vertical-align: top;\n",
       "    }\n",
       "\n",
       "    .dataframe thead th {\n",
       "        text-align: right;\n",
       "    }\n",
       "</style>\n",
       "<table border=\"1\" class=\"dataframe\">\n",
       "  <thead>\n",
       "    <tr style=\"text-align: right;\">\n",
       "      <th></th>\n",
       "      <th>Sales</th>\n",
       "    </tr>\n",
       "    <tr>\n",
       "      <th>Month</th>\n",
       "      <th></th>\n",
       "    </tr>\n",
       "  </thead>\n",
       "  <tbody>\n",
       "    <tr>\n",
       "      <th>1964-01-01</th>\n",
       "      <td>2815.0</td>\n",
       "    </tr>\n",
       "    <tr>\n",
       "      <th>1964-02-01</th>\n",
       "      <td>2672.0</td>\n",
       "    </tr>\n",
       "    <tr>\n",
       "      <th>1964-03-01</th>\n",
       "      <td>2755.0</td>\n",
       "    </tr>\n",
       "    <tr>\n",
       "      <th>1964-04-01</th>\n",
       "      <td>2721.0</td>\n",
       "    </tr>\n",
       "    <tr>\n",
       "      <th>1964-05-01</th>\n",
       "      <td>2946.0</td>\n",
       "    </tr>\n",
       "  </tbody>\n",
       "</table>\n",
       "</div>"
      ],
      "text/plain": [
       "             Sales\n",
       "Month             \n",
       "1964-01-01  2815.0\n",
       "1964-02-01  2672.0\n",
       "1964-03-01  2755.0\n",
       "1964-04-01  2721.0\n",
       "1964-05-01  2946.0"
      ]
     },
     "execution_count": 17,
     "metadata": {},
     "output_type": "execute_result"
    }
   ],
   "source": [
    "df.head()"
   ]
  },
  {
   "cell_type": "code",
   "execution_count": 18,
   "id": "54037d06",
   "metadata": {},
   "outputs": [
    {
     "data": {
      "text/html": [
       "<div>\n",
       "<style scoped>\n",
       "    .dataframe tbody tr th:only-of-type {\n",
       "        vertical-align: middle;\n",
       "    }\n",
       "\n",
       "    .dataframe tbody tr th {\n",
       "        vertical-align: top;\n",
       "    }\n",
       "\n",
       "    .dataframe thead th {\n",
       "        text-align: right;\n",
       "    }\n",
       "</style>\n",
       "<table border=\"1\" class=\"dataframe\">\n",
       "  <thead>\n",
       "    <tr style=\"text-align: right;\">\n",
       "      <th></th>\n",
       "      <th>Sales</th>\n",
       "    </tr>\n",
       "  </thead>\n",
       "  <tbody>\n",
       "    <tr>\n",
       "      <th>count</th>\n",
       "      <td>105.000000</td>\n",
       "    </tr>\n",
       "    <tr>\n",
       "      <th>mean</th>\n",
       "      <td>4761.152381</td>\n",
       "    </tr>\n",
       "    <tr>\n",
       "      <th>std</th>\n",
       "      <td>2553.502601</td>\n",
       "    </tr>\n",
       "    <tr>\n",
       "      <th>min</th>\n",
       "      <td>1413.000000</td>\n",
       "    </tr>\n",
       "    <tr>\n",
       "      <th>25%</th>\n",
       "      <td>3113.000000</td>\n",
       "    </tr>\n",
       "    <tr>\n",
       "      <th>50%</th>\n",
       "      <td>4217.000000</td>\n",
       "    </tr>\n",
       "    <tr>\n",
       "      <th>75%</th>\n",
       "      <td>5221.000000</td>\n",
       "    </tr>\n",
       "    <tr>\n",
       "      <th>max</th>\n",
       "      <td>13916.000000</td>\n",
       "    </tr>\n",
       "  </tbody>\n",
       "</table>\n",
       "</div>"
      ],
      "text/plain": [
       "              Sales\n",
       "count    105.000000\n",
       "mean    4761.152381\n",
       "std     2553.502601\n",
       "min     1413.000000\n",
       "25%     3113.000000\n",
       "50%     4217.000000\n",
       "75%     5221.000000\n",
       "max    13916.000000"
      ]
     },
     "execution_count": 18,
     "metadata": {},
     "output_type": "execute_result"
    }
   ],
   "source": [
    "df.describe()"
   ]
  },
  {
   "cell_type": "markdown",
   "id": "c6d3a458",
   "metadata": {},
   "source": [
    "## Visualizing Sales"
   ]
  },
  {
   "cell_type": "markdown",
   "id": "89eec216",
   "metadata": {},
   "source": [
    "Now we can visualize our data"
   ]
  },
  {
   "cell_type": "markdown",
   "id": "cf99038f",
   "metadata": {},
   "source": [
    "seasonal data"
   ]
  },
  {
   "cell_type": "code",
   "execution_count": 19,
   "id": "8f84e99d",
   "metadata": {
    "scrolled": false
   },
   "outputs": [
    {
     "data": {
      "text/plain": [
       "<AxesSubplot:xlabel='Month'>"
      ]
     },
     "execution_count": 19,
     "metadata": {},
     "output_type": "execute_result"
    },
    {
     "data": {
      "image/png": "[encoded data removed]",
      "text/plain": [
       "<Figure size 432x288 with 1 Axes>"
      ]
     },
     "metadata": {
      "needs_background": "light"
     },
     "output_type": "display_data"
    }
   ],
   "source": [
    "df.plot()"
   ]
  },
  {
   "cell_type": "markdown",
   "id": "5749f88c",
   "metadata": {},
   "source": [
    "As seen below, our data is seasonal. Seasonality occurs when time series data exhibits regular and predictable patterns at time intervals that are smaller than a year."
   ]
  },
  {
   "cell_type": "markdown",
   "id": "96fb8b1a",
   "metadata": {},
   "source": [
    "## Checking for Stationarity"
   ]
  },
  {
   "cell_type": "markdown",
   "id": "0f741b1f",
   "metadata": {},
   "source": [
    "Data must be stationary for the time series use case.\n",
    "\n",
    "**Stationarity** means the statistical properties of the data in a time series do not change over time. It’s a way to measure whether the data has structural patterns like seasonality/trends.\n",
    "\n",
    "Why is it important to check for stationarity?\n",
    "\n",
    "- Stationary data is much easier to analyze. \n",
    "\n",
    "- When forecasting future events, time series models assume that each point is independent of one others. Since stationary data contains no trends or seasonality, the data are considered independent of each other.\n",
    "\n",
    "So we have to check for stationary before using ARIMA & SARIMAX.\n",
    "\n",
    "**How can we identify stationary data?**\n",
    "\n",
    "There are 2 statistical tests to check the time series data is stationary or not.\n",
    "\n",
    "- **1- ADF - Augmented Dickey-Fuller Test**\n",
    "- **2- Detrending/Differencing**\n",
    "\n",
    "We will conduct Augmented Dickey-Fuller test to check if our data is stationary or not.\n",
    "\n",
    "**How ADF test is conduct?**\n",
    "\n",
    "- The ADF method in statsmodels will output the p-value, the value of the test statistics. If the test statistic is less than the critical value and the p-value is less than the alpha value you set (conventional alpha = 0.05), then there is enough evidence to reject the null hypothesis and state that the time series is stationary.\n",
    "\n",
    "ADF test -> p-value < 0.05"
   ]
  },
  {
   "cell_type": "markdown",
   "id": "fb0ce490",
   "metadata": {},
   "source": [
    "### Conducting ADF Test"
   ]
  },
  {
   "cell_type": "markdown",
   "id": "bb3eed6b",
   "metadata": {},
   "source": [
    "We will contuct ADF test with the following assumptions and hypotheses:\n",
    "\n",
    "- **Null Hypothesis (H0)**: Data is not stationary.\n",
    "- **Alternative Hypothesis (H1)**:  Data is stationary."
   ]
  },
  {
   "cell_type": "code",
   "execution_count": 20,
   "id": "aaeb9264",
   "metadata": {
    "scrolled": true
   },
   "outputs": [
    {
     "data": {
      "text/plain": [
       "(-1.8335930563276241,\n",
       " 0.36391577166024436,\n",
       " 11,\n",
       " 93,\n",
       " {'1%': -3.502704609582561,\n",
       "  '5%': -2.8931578098779522,\n",
       "  '10%': -2.583636712914788},\n",
       " 1478.4633060594724)"
      ]
     },
     "execution_count": 20,
     "metadata": {},
     "output_type": "execute_result"
    }
   ],
   "source": [
    "adfuller(df['Sales'])"
   ]
  },
  {
   "cell_type": "code",
   "execution_count": 21,
   "id": "00225d0c",
   "metadata": {},
   "outputs": [],
   "source": [
    "def adfuller_test(sales):\n",
    "    result = adfuller(sales)\n",
    "    \n",
    "    labels = ['ADF test statistics', 'p-value', 'Lags used', 'Number of obs used']\n",
    "    \n",
    "    for value, label in zip(result, labels):\n",
    "        print('{} : {} '.format(label, value))\n",
    "        \n",
    "    if result[1]<=0.05:\n",
    "        print('Strong evidence against null hypothesis, reject the null hypothesis and data is stationary')\n",
    "    else:\n",
    "        print('Weak evidence against null hypothesis, accept the null hypothesis and data is not stationary')"
   ]
  },
  {
   "cell_type": "code",
   "execution_count": 22,
   "id": "c80a92ae",
   "metadata": {
    "scrolled": false
   },
   "outputs": [
    {
     "name": "stdout",
     "output_type": "stream",
     "text": [
      "ADF test statistics : -1.8335930563276241 \n",
      "p-value : 0.36391577166024436 \n",
      "Lags used : 11 \n",
      "Number of obs used : 93 \n",
      "Weak evidence against null hypothesis, accept the null hypothesis and data is not stationary\n"
     ]
    }
   ],
   "source": [
    "adfuller_test(df['Sales'])"
   ]
  },
  {
   "cell_type": "markdown",
   "id": "bf120a7a",
   "metadata": {},
   "source": [
    "As seen above, the p-value of the ADF test is greater than 0.05, so our data is not stationary. For time series use case we have to make our data stationary."
   ]
  },
  {
   "cell_type": "code",
   "execution_count": 23,
   "id": "40311182",
   "metadata": {
    "scrolled": true
   },
   "outputs": [
    {
     "data": {
      "text/html": [
       "<div>\n",
       "<style scoped>\n",
       "    .dataframe tbody tr th:only-of-type {\n",
       "        vertical-align: middle;\n",
       "    }\n",
       "\n",
       "    .dataframe tbody tr th {\n",
       "        vertical-align: top;\n",
       "    }\n",
       "\n",
       "    .dataframe thead th {\n",
       "        text-align: right;\n",
       "    }\n",
       "</style>\n",
       "<table border=\"1\" class=\"dataframe\">\n",
       "  <thead>\n",
       "    <tr style=\"text-align: right;\">\n",
       "      <th></th>\n",
       "      <th>Sales</th>\n",
       "    </tr>\n",
       "    <tr>\n",
       "      <th>Month</th>\n",
       "      <th></th>\n",
       "    </tr>\n",
       "  </thead>\n",
       "  <tbody>\n",
       "    <tr>\n",
       "      <th>1964-01-01</th>\n",
       "      <td>2815.0</td>\n",
       "    </tr>\n",
       "    <tr>\n",
       "      <th>1964-02-01</th>\n",
       "      <td>2672.0</td>\n",
       "    </tr>\n",
       "    <tr>\n",
       "      <th>1964-03-01</th>\n",
       "      <td>2755.0</td>\n",
       "    </tr>\n",
       "    <tr>\n",
       "      <th>1964-04-01</th>\n",
       "      <td>2721.0</td>\n",
       "    </tr>\n",
       "    <tr>\n",
       "      <th>1964-05-01</th>\n",
       "      <td>2946.0</td>\n",
       "    </tr>\n",
       "    <tr>\n",
       "      <th>...</th>\n",
       "      <td>...</td>\n",
       "    </tr>\n",
       "    <tr>\n",
       "      <th>1972-05-01</th>\n",
       "      <td>4618.0</td>\n",
       "    </tr>\n",
       "    <tr>\n",
       "      <th>1972-06-01</th>\n",
       "      <td>5312.0</td>\n",
       "    </tr>\n",
       "    <tr>\n",
       "      <th>1972-07-01</th>\n",
       "      <td>4298.0</td>\n",
       "    </tr>\n",
       "    <tr>\n",
       "      <th>1972-08-01</th>\n",
       "      <td>1413.0</td>\n",
       "    </tr>\n",
       "    <tr>\n",
       "      <th>1972-09-01</th>\n",
       "      <td>5877.0</td>\n",
       "    </tr>\n",
       "  </tbody>\n",
       "</table>\n",
       "<p>105 rows × 1 columns</p>\n",
       "</div>"
      ],
      "text/plain": [
       "             Sales\n",
       "Month             \n",
       "1964-01-01  2815.0\n",
       "1964-02-01  2672.0\n",
       "1964-03-01  2755.0\n",
       "1964-04-01  2721.0\n",
       "1964-05-01  2946.0\n",
       "...            ...\n",
       "1972-05-01  4618.0\n",
       "1972-06-01  5312.0\n",
       "1972-07-01  4298.0\n",
       "1972-08-01  1413.0\n",
       "1972-09-01  5877.0\n",
       "\n",
       "[105 rows x 1 columns]"
      ]
     },
     "execution_count": 23,
     "metadata": {},
     "output_type": "execute_result"
    }
   ],
   "source": [
    "df"
   ]
  },
  {
   "cell_type": "code",
   "execution_count": 24,
   "id": "c97861f1",
   "metadata": {},
   "outputs": [
    {
     "data": {
      "text/plain": [
       "Month\n",
       "1964-01-01       NaN\n",
       "1964-02-01    2815.0\n",
       "1964-03-01    2672.0\n",
       "1964-04-01    2755.0\n",
       "1964-05-01    2721.0\n",
       "               ...  \n",
       "1972-05-01    4788.0\n",
       "1972-06-01    4618.0\n",
       "1972-07-01    5312.0\n",
       "1972-08-01    4298.0\n",
       "1972-09-01    1413.0\n",
       "Name: Sales, Length: 105, dtype: float64"
      ]
     },
     "execution_count": 24,
     "metadata": {},
     "output_type": "execute_result"
    }
   ],
   "source": [
    "df['Sales'].shift(1)"
   ]
  },
  {
   "cell_type": "code",
   "execution_count": 25,
   "id": "3d522002",
   "metadata": {},
   "outputs": [],
   "source": [
    "df['Sales first diff.'] = df['Sales'] - df['Sales'].shift(1)"
   ]
  },
  {
   "cell_type": "code",
   "execution_count": 26,
   "id": "2b79dd0d",
   "metadata": {},
   "outputs": [
    {
     "data": {
      "text/html": [
       "<div>\n",
       "<style scoped>\n",
       "    .dataframe tbody tr th:only-of-type {\n",
       "        vertical-align: middle;\n",
       "    }\n",
       "\n",
       "    .dataframe tbody tr th {\n",
       "        vertical-align: top;\n",
       "    }\n",
       "\n",
       "    .dataframe thead th {\n",
       "        text-align: right;\n",
       "    }\n",
       "</style>\n",
       "<table border=\"1\" class=\"dataframe\">\n",
       "  <thead>\n",
       "    <tr style=\"text-align: right;\">\n",
       "      <th></th>\n",
       "      <th>Sales</th>\n",
       "      <th>Sales first diff.</th>\n",
       "    </tr>\n",
       "    <tr>\n",
       "      <th>Month</th>\n",
       "      <th></th>\n",
       "      <th></th>\n",
       "    </tr>\n",
       "  </thead>\n",
       "  <tbody>\n",
       "    <tr>\n",
       "      <th>1964-01-01</th>\n",
       "      <td>2815.0</td>\n",
       "      <td>NaN</td>\n",
       "    </tr>\n",
       "    <tr>\n",
       "      <th>1964-02-01</th>\n",
       "      <td>2672.0</td>\n",
       "      <td>-143.0</td>\n",
       "    </tr>\n",
       "    <tr>\n",
       "      <th>1964-03-01</th>\n",
       "      <td>2755.0</td>\n",
       "      <td>83.0</td>\n",
       "    </tr>\n",
       "    <tr>\n",
       "      <th>1964-04-01</th>\n",
       "      <td>2721.0</td>\n",
       "      <td>-34.0</td>\n",
       "    </tr>\n",
       "    <tr>\n",
       "      <th>1964-05-01</th>\n",
       "      <td>2946.0</td>\n",
       "      <td>225.0</td>\n",
       "    </tr>\n",
       "  </tbody>\n",
       "</table>\n",
       "</div>"
      ],
      "text/plain": [
       "             Sales  Sales first diff.\n",
       "Month                                \n",
       "1964-01-01  2815.0                NaN\n",
       "1964-02-01  2672.0             -143.0\n",
       "1964-03-01  2755.0               83.0\n",
       "1964-04-01  2721.0              -34.0\n",
       "1964-05-01  2946.0              225.0"
      ]
     },
     "execution_count": 26,
     "metadata": {},
     "output_type": "execute_result"
    }
   ],
   "source": [
    "df.head()"
   ]
  },
  {
   "cell_type": "markdown",
   "id": "1a7ccda1",
   "metadata": {},
   "source": [
    "We shift by 12 month cycle"
   ]
  },
  {
   "cell_type": "code",
   "execution_count": 27,
   "id": "caaf2131",
   "metadata": {
    "scrolled": true
   },
   "outputs": [],
   "source": [
    "df['Seasonal first diff.'] = df['Sales'] - df['Sales'].shift(12)"
   ]
  },
  {
   "cell_type": "code",
   "execution_count": 28,
   "id": "6abd7f8b",
   "metadata": {},
   "outputs": [
    {
     "data": {
      "text/html": [
       "<div>\n",
       "<style scoped>\n",
       "    .dataframe tbody tr th:only-of-type {\n",
       "        vertical-align: middle;\n",
       "    }\n",
       "\n",
       "    .dataframe tbody tr th {\n",
       "        vertical-align: top;\n",
       "    }\n",
       "\n",
       "    .dataframe thead th {\n",
       "        text-align: right;\n",
       "    }\n",
       "</style>\n",
       "<table border=\"1\" class=\"dataframe\">\n",
       "  <thead>\n",
       "    <tr style=\"text-align: right;\">\n",
       "      <th></th>\n",
       "      <th>Sales</th>\n",
       "      <th>Sales first diff.</th>\n",
       "      <th>Seasonal first diff.</th>\n",
       "    </tr>\n",
       "    <tr>\n",
       "      <th>Month</th>\n",
       "      <th></th>\n",
       "      <th></th>\n",
       "      <th></th>\n",
       "    </tr>\n",
       "  </thead>\n",
       "  <tbody>\n",
       "    <tr>\n",
       "      <th>1964-01-01</th>\n",
       "      <td>2815.0</td>\n",
       "      <td>NaN</td>\n",
       "      <td>NaN</td>\n",
       "    </tr>\n",
       "    <tr>\n",
       "      <th>1964-02-01</th>\n",
       "      <td>2672.0</td>\n",
       "      <td>-143.0</td>\n",
       "      <td>NaN</td>\n",
       "    </tr>\n",
       "    <tr>\n",
       "      <th>1964-03-01</th>\n",
       "      <td>2755.0</td>\n",
       "      <td>83.0</td>\n",
       "      <td>NaN</td>\n",
       "    </tr>\n",
       "    <tr>\n",
       "      <th>1964-04-01</th>\n",
       "      <td>2721.0</td>\n",
       "      <td>-34.0</td>\n",
       "      <td>NaN</td>\n",
       "    </tr>\n",
       "    <tr>\n",
       "      <th>1964-05-01</th>\n",
       "      <td>2946.0</td>\n",
       "      <td>225.0</td>\n",
       "      <td>NaN</td>\n",
       "    </tr>\n",
       "  </tbody>\n",
       "</table>\n",
       "</div>"
      ],
      "text/plain": [
       "             Sales  Sales first diff.  Seasonal first diff.\n",
       "Month                                                      \n",
       "1964-01-01  2815.0                NaN                   NaN\n",
       "1964-02-01  2672.0             -143.0                   NaN\n",
       "1964-03-01  2755.0               83.0                   NaN\n",
       "1964-04-01  2721.0              -34.0                   NaN\n",
       "1964-05-01  2946.0              225.0                   NaN"
      ]
     },
     "execution_count": 28,
     "metadata": {},
     "output_type": "execute_result"
    }
   ],
   "source": [
    "df.head()"
   ]
  },
  {
   "cell_type": "code",
   "execution_count": 29,
   "id": "fb911ec7",
   "metadata": {
    "scrolled": false
   },
   "outputs": [
    {
     "name": "stdout",
     "output_type": "stream",
     "text": [
      "ADF test statistics : -7.626619157213164 \n",
      "p-value : 2.060579696813685e-11 \n",
      "Lags used : 0 \n",
      "Number of obs used : 92 \n",
      "Strong evidence against null hypothesis, reject the null hypothesis and data is stationary\n"
     ]
    }
   ],
   "source": [
    "adfuller_test(df['Seasonal first diff.'].dropna())"
   ]
  },
  {
   "cell_type": "markdown",
   "id": "816c438d",
   "metadata": {},
   "source": [
    "Now our data is stationary "
   ]
  },
  {
   "cell_type": "code",
   "execution_count": 30,
   "id": "90555cd0",
   "metadata": {
    "scrolled": true
   },
   "outputs": [
    {
     "data": {
      "text/plain": [
       "<AxesSubplot:xlabel='Month'>"
      ]
     },
     "execution_count": 30,
     "metadata": {},
     "output_type": "execute_result"
    },
    {
     "data": {
      "image/png": "[encoded data removed]",
      "text/plain": [
       "<Figure size 432x288 with 1 Axes>"
      ]
     },
     "metadata": {
      "needs_background": "light"
     },
     "output_type": "display_data"
    }
   ],
   "source": [
    "df['Seasonal first diff.'].plot()"
   ]
  },
  {
   "cell_type": "markdown",
   "id": "4ec29a00",
   "metadata": {},
   "source": [
    "## ARIMA"
   ]
  },
  {
   "cell_type": "markdown",
   "id": "23658eb2",
   "metadata": {},
   "source": [
    "ARIMA is an acronym for “autoregressive integrated moving average.” It's a model used in statistics and econometrics to measure events that happen over a period of time. The model is used to understand past data or predict future data in a series."
   ]
  },
  {
   "cell_type": "code",
   "execution_count": 31,
   "id": "45c2875d",
   "metadata": {},
   "outputs": [
    {
     "data": {
      "text/html": [
       "<div>\n",
       "<style scoped>\n",
       "    .dataframe tbody tr th:only-of-type {\n",
       "        vertical-align: middle;\n",
       "    }\n",
       "\n",
       "    .dataframe tbody tr th {\n",
       "        vertical-align: top;\n",
       "    }\n",
       "\n",
       "    .dataframe thead th {\n",
       "        text-align: right;\n",
       "    }\n",
       "</style>\n",
       "<table border=\"1\" class=\"dataframe\">\n",
       "  <thead>\n",
       "    <tr style=\"text-align: right;\">\n",
       "      <th></th>\n",
       "      <th>Sales</th>\n",
       "      <th>Sales first diff.</th>\n",
       "      <th>Seasonal first diff.</th>\n",
       "    </tr>\n",
       "    <tr>\n",
       "      <th>Month</th>\n",
       "      <th></th>\n",
       "      <th></th>\n",
       "      <th></th>\n",
       "    </tr>\n",
       "  </thead>\n",
       "  <tbody>\n",
       "    <tr>\n",
       "      <th>1964-01-01</th>\n",
       "      <td>2815.0</td>\n",
       "      <td>NaN</td>\n",
       "      <td>NaN</td>\n",
       "    </tr>\n",
       "    <tr>\n",
       "      <th>1964-02-01</th>\n",
       "      <td>2672.0</td>\n",
       "      <td>-143.0</td>\n",
       "      <td>NaN</td>\n",
       "    </tr>\n",
       "    <tr>\n",
       "      <th>1964-03-01</th>\n",
       "      <td>2755.0</td>\n",
       "      <td>83.0</td>\n",
       "      <td>NaN</td>\n",
       "    </tr>\n",
       "    <tr>\n",
       "      <th>1964-04-01</th>\n",
       "      <td>2721.0</td>\n",
       "      <td>-34.0</td>\n",
       "      <td>NaN</td>\n",
       "    </tr>\n",
       "    <tr>\n",
       "      <th>1964-05-01</th>\n",
       "      <td>2946.0</td>\n",
       "      <td>225.0</td>\n",
       "      <td>NaN</td>\n",
       "    </tr>\n",
       "    <tr>\n",
       "      <th>1964-06-01</th>\n",
       "      <td>3036.0</td>\n",
       "      <td>90.0</td>\n",
       "      <td>NaN</td>\n",
       "    </tr>\n",
       "    <tr>\n",
       "      <th>1964-07-01</th>\n",
       "      <td>2282.0</td>\n",
       "      <td>-754.0</td>\n",
       "      <td>NaN</td>\n",
       "    </tr>\n",
       "    <tr>\n",
       "      <th>1964-08-01</th>\n",
       "      <td>2212.0</td>\n",
       "      <td>-70.0</td>\n",
       "      <td>NaN</td>\n",
       "    </tr>\n",
       "    <tr>\n",
       "      <th>1964-09-01</th>\n",
       "      <td>2922.0</td>\n",
       "      <td>710.0</td>\n",
       "      <td>NaN</td>\n",
       "    </tr>\n",
       "    <tr>\n",
       "      <th>1964-10-01</th>\n",
       "      <td>4301.0</td>\n",
       "      <td>1379.0</td>\n",
       "      <td>NaN</td>\n",
       "    </tr>\n",
       "    <tr>\n",
       "      <th>1964-11-01</th>\n",
       "      <td>5764.0</td>\n",
       "      <td>1463.0</td>\n",
       "      <td>NaN</td>\n",
       "    </tr>\n",
       "    <tr>\n",
       "      <th>1964-12-01</th>\n",
       "      <td>7312.0</td>\n",
       "      <td>1548.0</td>\n",
       "      <td>NaN</td>\n",
       "    </tr>\n",
       "    <tr>\n",
       "      <th>1965-01-01</th>\n",
       "      <td>2541.0</td>\n",
       "      <td>-4771.0</td>\n",
       "      <td>-274.0</td>\n",
       "    </tr>\n",
       "    <tr>\n",
       "      <th>1965-02-01</th>\n",
       "      <td>2475.0</td>\n",
       "      <td>-66.0</td>\n",
       "      <td>-197.0</td>\n",
       "    </tr>\n",
       "    <tr>\n",
       "      <th>1965-03-01</th>\n",
       "      <td>3031.0</td>\n",
       "      <td>556.0</td>\n",
       "      <td>276.0</td>\n",
       "    </tr>\n",
       "  </tbody>\n",
       "</table>\n",
       "</div>"
      ],
      "text/plain": [
       "             Sales  Sales first diff.  Seasonal first diff.\n",
       "Month                                                      \n",
       "1964-01-01  2815.0                NaN                   NaN\n",
       "1964-02-01  2672.0             -143.0                   NaN\n",
       "1964-03-01  2755.0               83.0                   NaN\n",
       "1964-04-01  2721.0              -34.0                   NaN\n",
       "1964-05-01  2946.0              225.0                   NaN\n",
       "1964-06-01  3036.0               90.0                   NaN\n",
       "1964-07-01  2282.0             -754.0                   NaN\n",
       "1964-08-01  2212.0              -70.0                   NaN\n",
       "1964-09-01  2922.0              710.0                   NaN\n",
       "1964-10-01  4301.0             1379.0                   NaN\n",
       "1964-11-01  5764.0             1463.0                   NaN\n",
       "1964-12-01  7312.0             1548.0                   NaN\n",
       "1965-01-01  2541.0            -4771.0                -274.0\n",
       "1965-02-01  2475.0              -66.0                -197.0\n",
       "1965-03-01  3031.0              556.0                 276.0"
      ]
     },
     "execution_count": 31,
     "metadata": {},
     "output_type": "execute_result"
    }
   ],
   "source": [
    "df.head(15)"
   ]
  },
  {
   "cell_type": "code",
   "execution_count": 32,
   "id": "18c08d70",
   "metadata": {},
   "outputs": [
    {
     "data": {
      "image/png": "[encoded data removed]",
      "text/plain": [
       "<Figure size 864x576 with 2 Axes>"
      ]
     },
     "metadata": {
      "needs_background": "light"
     },
     "output_type": "display_data"
    }
   ],
   "source": [
    "fig = plt.figure(figsize = (12,8))\n",
    "ax1 = fig.add_subplot(211)\n",
    "fig = plot_acf(df['Seasonal first diff.'].iloc[13:], lags=40, ax=ax1)\n",
    "\n",
    "ax2 = fig.add_subplot(212)\n",
    "fig = plot_pacf(df['Seasonal first diff.'].iloc[13:], lags=40, ax=ax2)"
   ]
  },
  {
   "cell_type": "code",
   "execution_count": 33,
   "id": "f6af53da",
   "metadata": {},
   "outputs": [
    {
     "name": "stderr",
     "output_type": "stream",
     "text": [
      "/Users/cerencicek/opt/anaconda3/lib/python3.8/site-packages/statsmodels/tsa/base/tsa_model.py:524: ValueWarning: No frequency information was provided, so inferred frequency MS will be used.\n",
      "  warnings.warn('No frequency information was'\n",
      "/Users/cerencicek/opt/anaconda3/lib/python3.8/site-packages/statsmodels/tsa/base/tsa_model.py:524: ValueWarning: No frequency information was provided, so inferred frequency MS will be used.\n",
      "  warnings.warn('No frequency information was'\n"
     ]
    }
   ],
   "source": [
    "model = ARIMA(df['Sales'], order=(1,1,1))"
   ]
  },
  {
   "cell_type": "code",
   "execution_count": 34,
   "id": "e11e2784",
   "metadata": {},
   "outputs": [],
   "source": [
    "model = model.fit()"
   ]
  },
  {
   "cell_type": "code",
   "execution_count": 35,
   "id": "459ad3af",
   "metadata": {},
   "outputs": [
    {
     "data": {
      "text/html": [
       "<table class=\"simpletable\">\n",
       "<caption>ARIMA Model Results</caption>\n",
       "<tr>\n",
       "  <th>Dep. Variable:</th>      <td>D.Sales</td>     <th>  No. Observations:  </th>    <td>104</td>  \n",
       "</tr>\n",
       "<tr>\n",
       "  <th>Model:</th>          <td>ARIMA(1, 1, 1)</td>  <th>  Log Likelihood     </th> <td>-951.126</td>\n",
       "</tr>\n",
       "<tr>\n",
       "  <th>Method:</th>             <td>css-mle</td>     <th>  S.D. of innovations</th> <td>2227.262</td>\n",
       "</tr>\n",
       "<tr>\n",
       "  <th>Date:</th>          <td>Sun, 02 Apr 2023</td> <th>  AIC                </th> <td>1910.251</td>\n",
       "</tr>\n",
       "<tr>\n",
       "  <th>Time:</th>              <td>15:32:14</td>     <th>  BIC                </th> <td>1920.829</td>\n",
       "</tr>\n",
       "<tr>\n",
       "  <th>Sample:</th>           <td>02-01-1964</td>    <th>  HQIC               </th> <td>1914.536</td>\n",
       "</tr>\n",
       "<tr>\n",
       "  <th></th>                 <td>- 09-01-1972</td>   <th>                     </th>     <td> </td>   \n",
       "</tr>\n",
       "</table>\n",
       "<table class=\"simpletable\">\n",
       "<tr>\n",
       "        <td></td>           <th>coef</th>     <th>std err</th>      <th>z</th>      <th>P>|z|</th>  <th>[0.025</th>    <th>0.975]</th>  \n",
       "</tr>\n",
       "<tr>\n",
       "  <th>const</th>         <td>   22.7845</td> <td>   12.405</td> <td>    1.837</td> <td> 0.066</td> <td>   -1.529</td> <td>   47.098</td>\n",
       "</tr>\n",
       "<tr>\n",
       "  <th>ar.L1.D.Sales</th> <td>    0.4343</td> <td>    0.089</td> <td>    4.866</td> <td> 0.000</td> <td>    0.259</td> <td>    0.609</td>\n",
       "</tr>\n",
       "<tr>\n",
       "  <th>ma.L1.D.Sales</th> <td>   -1.0000</td> <td>    0.026</td> <td>  -38.503</td> <td> 0.000</td> <td>   -1.051</td> <td>   -0.949</td>\n",
       "</tr>\n",
       "</table>\n",
       "<table class=\"simpletable\">\n",
       "<caption>Roots</caption>\n",
       "<tr>\n",
       "    <td></td>   <th>            Real</th>  <th>         Imaginary</th> <th>         Modulus</th>  <th>        Frequency</th>\n",
       "</tr>\n",
       "<tr>\n",
       "  <th>AR.1</th> <td>           2.3023</td> <td>          +0.0000j</td> <td>           2.3023</td> <td>           0.0000</td>\n",
       "</tr>\n",
       "<tr>\n",
       "  <th>MA.1</th> <td>           1.0000</td> <td>          +0.0000j</td> <td>           1.0000</td> <td>           0.0000</td>\n",
       "</tr>\n",
       "</table>"
      ],
      "text/plain": [
       "<class 'statsmodels.iolib.summary.Summary'>\n",
       "\"\"\"\n",
       "                             ARIMA Model Results                              \n",
       "==============================================================================\n",
       "Dep. Variable:                D.Sales   No. Observations:                  104\n",
       "Model:                 ARIMA(1, 1, 1)   Log Likelihood                -951.126\n",
       "Method:                       css-mle   S.D. of innovations           2227.262\n",
       "Date:                Sun, 02 Apr 2023   AIC                           1910.251\n",
       "Time:                        15:32:14   BIC                           1920.829\n",
       "Sample:                    02-01-1964   HQIC                          1914.536\n",
       "                         - 09-01-1972                                         \n",
       "=================================================================================\n",
       "                    coef    std err          z      P>|z|      [0.025      0.975]\n",
       "---------------------------------------------------------------------------------\n",
       "const            22.7845     12.405      1.837      0.066      -1.529      47.098\n",
       "ar.L1.D.Sales     0.4343      0.089      4.866      0.000       0.259       0.609\n",
       "ma.L1.D.Sales    -1.0000      0.026    -38.503      0.000      -1.051      -0.949\n",
       "                                    Roots                                    \n",
       "=============================================================================\n",
       "                  Real          Imaginary           Modulus         Frequency\n",
       "-----------------------------------------------------------------------------\n",
       "AR.1            2.3023           +0.0000j            2.3023            0.0000\n",
       "MA.1            1.0000           +0.0000j            1.0000            0.0000\n",
       "-----------------------------------------------------------------------------\n",
       "\"\"\""
      ]
     },
     "execution_count": 35,
     "metadata": {},
     "output_type": "execute_result"
    }
   ],
   "source": [
    "model.summary()"
   ]
  },
  {
   "cell_type": "code",
   "execution_count": 36,
   "id": "2e786166",
   "metadata": {},
   "outputs": [
    {
     "data": {
      "text/plain": [
       "(105, 3)"
      ]
     },
     "execution_count": 36,
     "metadata": {},
     "output_type": "execute_result"
    }
   ],
   "source": [
    "df.shape"
   ]
  },
  {
   "cell_type": "code",
   "execution_count": 37,
   "id": "a140ecbe",
   "metadata": {},
   "outputs": [],
   "source": [
    "df['forecast'] = model.predict(start=90, end=103, dynamic=True)"
   ]
  },
  {
   "cell_type": "code",
   "execution_count": 38,
   "id": "c09eb426",
   "metadata": {},
   "outputs": [
    {
     "data": {
      "text/html": [
       "<div>\n",
       "<style scoped>\n",
       "    .dataframe tbody tr th:only-of-type {\n",
       "        vertical-align: middle;\n",
       "    }\n",
       "\n",
       "    .dataframe tbody tr th {\n",
       "        vertical-align: top;\n",
       "    }\n",
       "\n",
       "    .dataframe thead th {\n",
       "        text-align: right;\n",
       "    }\n",
       "</style>\n",
       "<table border=\"1\" class=\"dataframe\">\n",
       "  <thead>\n",
       "    <tr style=\"text-align: right;\">\n",
       "      <th></th>\n",
       "      <th>Sales</th>\n",
       "      <th>Sales first diff.</th>\n",
       "      <th>Seasonal first diff.</th>\n",
       "      <th>forecast</th>\n",
       "    </tr>\n",
       "    <tr>\n",
       "      <th>Month</th>\n",
       "      <th></th>\n",
       "      <th></th>\n",
       "      <th></th>\n",
       "      <th></th>\n",
       "    </tr>\n",
       "  </thead>\n",
       "  <tbody>\n",
       "    <tr>\n",
       "      <th>1971-02-01</th>\n",
       "      <td>3162.0</td>\n",
       "      <td>-772.0</td>\n",
       "      <td>263.0</td>\n",
       "      <td>NaN</td>\n",
       "    </tr>\n",
       "    <tr>\n",
       "      <th>1971-03-01</th>\n",
       "      <td>4286.0</td>\n",
       "      <td>1124.0</td>\n",
       "      <td>916.0</td>\n",
       "      <td>NaN</td>\n",
       "    </tr>\n",
       "    <tr>\n",
       "      <th>1971-04-01</th>\n",
       "      <td>4676.0</td>\n",
       "      <td>390.0</td>\n",
       "      <td>936.0</td>\n",
       "      <td>NaN</td>\n",
       "    </tr>\n",
       "    <tr>\n",
       "      <th>1971-05-01</th>\n",
       "      <td>5010.0</td>\n",
       "      <td>334.0</td>\n",
       "      <td>2083.0</td>\n",
       "      <td>NaN</td>\n",
       "    </tr>\n",
       "    <tr>\n",
       "      <th>1971-06-01</th>\n",
       "      <td>4874.0</td>\n",
       "      <td>-136.0</td>\n",
       "      <td>888.0</td>\n",
       "      <td>NaN</td>\n",
       "    </tr>\n",
       "    <tr>\n",
       "      <th>1971-07-01</th>\n",
       "      <td>4633.0</td>\n",
       "      <td>-241.0</td>\n",
       "      <td>416.0</td>\n",
       "      <td>473.073504</td>\n",
       "    </tr>\n",
       "    <tr>\n",
       "      <th>1971-08-01</th>\n",
       "      <td>1659.0</td>\n",
       "      <td>-2974.0</td>\n",
       "      <td>-79.0</td>\n",
       "      <td>218.365659</td>\n",
       "    </tr>\n",
       "    <tr>\n",
       "      <th>1971-09-01</th>\n",
       "      <td>5951.0</td>\n",
       "      <td>4292.0</td>\n",
       "      <td>730.0</td>\n",
       "      <td>107.734371</td>\n",
       "    </tr>\n",
       "    <tr>\n",
       "      <th>1971-10-01</th>\n",
       "      <td>6981.0</td>\n",
       "      <td>1030.0</td>\n",
       "      <td>557.0</td>\n",
       "      <td>59.682132</td>\n",
       "    </tr>\n",
       "    <tr>\n",
       "      <th>1971-11-01</th>\n",
       "      <td>9851.0</td>\n",
       "      <td>2870.0</td>\n",
       "      <td>9.0</td>\n",
       "      <td>38.810843</td>\n",
       "    </tr>\n",
       "    <tr>\n",
       "      <th>1971-12-01</th>\n",
       "      <td>12670.0</td>\n",
       "      <td>2819.0</td>\n",
       "      <td>-406.0</td>\n",
       "      <td>29.745486</td>\n",
       "    </tr>\n",
       "    <tr>\n",
       "      <th>1972-01-01</th>\n",
       "      <td>4348.0</td>\n",
       "      <td>-8322.0</td>\n",
       "      <td>414.0</td>\n",
       "      <td>25.807986</td>\n",
       "    </tr>\n",
       "    <tr>\n",
       "      <th>1972-02-01</th>\n",
       "      <td>3564.0</td>\n",
       "      <td>-784.0</td>\n",
       "      <td>402.0</td>\n",
       "      <td>24.097749</td>\n",
       "    </tr>\n",
       "    <tr>\n",
       "      <th>1972-03-01</th>\n",
       "      <td>4577.0</td>\n",
       "      <td>1013.0</td>\n",
       "      <td>291.0</td>\n",
       "      <td>23.354915</td>\n",
       "    </tr>\n",
       "    <tr>\n",
       "      <th>1972-04-01</th>\n",
       "      <td>4788.0</td>\n",
       "      <td>211.0</td>\n",
       "      <td>112.0</td>\n",
       "      <td>23.032268</td>\n",
       "    </tr>\n",
       "    <tr>\n",
       "      <th>1972-05-01</th>\n",
       "      <td>4618.0</td>\n",
       "      <td>-170.0</td>\n",
       "      <td>-392.0</td>\n",
       "      <td>22.892128</td>\n",
       "    </tr>\n",
       "    <tr>\n",
       "      <th>1972-06-01</th>\n",
       "      <td>5312.0</td>\n",
       "      <td>694.0</td>\n",
       "      <td>438.0</td>\n",
       "      <td>22.831258</td>\n",
       "    </tr>\n",
       "    <tr>\n",
       "      <th>1972-07-01</th>\n",
       "      <td>4298.0</td>\n",
       "      <td>-1014.0</td>\n",
       "      <td>-335.0</td>\n",
       "      <td>22.804820</td>\n",
       "    </tr>\n",
       "    <tr>\n",
       "      <th>1972-08-01</th>\n",
       "      <td>1413.0</td>\n",
       "      <td>-2885.0</td>\n",
       "      <td>-246.0</td>\n",
       "      <td>22.793337</td>\n",
       "    </tr>\n",
       "    <tr>\n",
       "      <th>1972-09-01</th>\n",
       "      <td>5877.0</td>\n",
       "      <td>4464.0</td>\n",
       "      <td>-74.0</td>\n",
       "      <td>NaN</td>\n",
       "    </tr>\n",
       "  </tbody>\n",
       "</table>\n",
       "</div>"
      ],
      "text/plain": [
       "              Sales  Sales first diff.  Seasonal first diff.    forecast\n",
       "Month                                                                   \n",
       "1971-02-01   3162.0             -772.0                 263.0         NaN\n",
       "1971-03-01   4286.0             1124.0                 916.0         NaN\n",
       "1971-04-01   4676.0              390.0                 936.0         NaN\n",
       "1971-05-01   5010.0              334.0                2083.0         NaN\n",
       "1971-06-01   4874.0             -136.0                 888.0         NaN\n",
       "1971-07-01   4633.0             -241.0                 416.0  473.073504\n",
       "1971-08-01   1659.0            -2974.0                 -79.0  218.365659\n",
       "1971-09-01   5951.0             4292.0                 730.0  107.734371\n",
       "1971-10-01   6981.0             1030.0                 557.0   59.682132\n",
       "1971-11-01   9851.0             2870.0                   9.0   38.810843\n",
       "1971-12-01  12670.0             2819.0                -406.0   29.745486\n",
       "1972-01-01   4348.0            -8322.0                 414.0   25.807986\n",
       "1972-02-01   3564.0             -784.0                 402.0   24.097749\n",
       "1972-03-01   4577.0             1013.0                 291.0   23.354915\n",
       "1972-04-01   4788.0              211.0                 112.0   23.032268\n",
       "1972-05-01   4618.0             -170.0                -392.0   22.892128\n",
       "1972-06-01   5312.0              694.0                 438.0   22.831258\n",
       "1972-07-01   4298.0            -1014.0                -335.0   22.804820\n",
       "1972-08-01   1413.0            -2885.0                -246.0   22.793337\n",
       "1972-09-01   5877.0             4464.0                 -74.0         NaN"
      ]
     },
     "execution_count": 38,
     "metadata": {},
     "output_type": "execute_result"
    }
   ],
   "source": [
    "df.tail(20)"
   ]
  },
  {
   "cell_type": "code",
   "execution_count": 39,
   "id": "07c5cc16",
   "metadata": {},
   "outputs": [
    {
     "data": {
      "text/plain": [
       "<AxesSubplot:xlabel='Month'>"
      ]
     },
     "execution_count": 39,
     "metadata": {},
     "output_type": "execute_result"
    },
    {
     "data": {
      "image/png": "[encoded data removed]",
      "text/plain": [
       "<Figure size 864x576 with 1 Axes>"
      ]
     },
     "metadata": {
      "needs_background": "light"
     },
     "output_type": "display_data"
    }
   ],
   "source": [
    "df[['Sales', 'forecast']].plot(figsize=(12,8))"
   ]
  },
  {
   "cell_type": "markdown",
   "id": "74b60532",
   "metadata": {},
   "source": [
    "As seen above, ARIMA did not predict it even a little bit closer. The reason behind this is when you have seasonal data ARIMA is not suitable. We will use SARIMAX which is Seasonal ARIMA, it is an extension of ARIMA."
   ]
  },
  {
   "cell_type": "markdown",
   "id": "1e120d73",
   "metadata": {},
   "source": [
    "## SARIMAX"
   ]
  },
  {
   "cell_type": "markdown",
   "id": "5d8e921a",
   "metadata": {},
   "source": [
    "SARIMAX is used on data sets that have seasonal cycles. The difference between ARIMA and SARIMAX is the seasonality and exogenous factors (seasonality and regular ARIMA don't mix well)."
   ]
  },
  {
   "cell_type": "code",
   "execution_count": 40,
   "id": "10fc87d2",
   "metadata": {},
   "outputs": [
    {
     "name": "stderr",
     "output_type": "stream",
     "text": [
      "/Users/cerencicek/opt/anaconda3/lib/python3.8/site-packages/statsmodels/tsa/base/tsa_model.py:524: ValueWarning: No frequency information was provided, so inferred frequency MS will be used.\n",
      "  warnings.warn('No frequency information was'\n",
      "/Users/cerencicek/opt/anaconda3/lib/python3.8/site-packages/statsmodels/tsa/base/tsa_model.py:524: ValueWarning: No frequency information was provided, so inferred frequency MS will be used.\n",
      "  warnings.warn('No frequency information was'\n"
     ]
    }
   ],
   "source": [
    "model = sm.tsa.statespace.SARIMAX(df['Sales'], order=(1,1,1), seasonal_order=(1,1,1,12))"
   ]
  },
  {
   "cell_type": "code",
   "execution_count": 41,
   "id": "9d180e6e",
   "metadata": {},
   "outputs": [],
   "source": [
    "results = model.fit()"
   ]
  },
  {
   "cell_type": "code",
   "execution_count": 42,
   "id": "8d37a29a",
   "metadata": {},
   "outputs": [],
   "source": [
    "df['forecast_SARIMAX'] = results.predict(start=90, end=103, dynamic=True)"
   ]
  },
  {
   "cell_type": "code",
   "execution_count": 43,
   "id": "5aaa9c38",
   "metadata": {},
   "outputs": [
    {
     "data": {
      "text/html": [
       "<div>\n",
       "<style scoped>\n",
       "    .dataframe tbody tr th:only-of-type {\n",
       "        vertical-align: middle;\n",
       "    }\n",
       "\n",
       "    .dataframe tbody tr th {\n",
       "        vertical-align: top;\n",
       "    }\n",
       "\n",
       "    .dataframe thead th {\n",
       "        text-align: right;\n",
       "    }\n",
       "</style>\n",
       "<table border=\"1\" class=\"dataframe\">\n",
       "  <thead>\n",
       "    <tr style=\"text-align: right;\">\n",
       "      <th></th>\n",
       "      <th>Sales</th>\n",
       "      <th>Sales first diff.</th>\n",
       "      <th>Seasonal first diff.</th>\n",
       "      <th>forecast</th>\n",
       "      <th>forecast_SARIMAX</th>\n",
       "    </tr>\n",
       "    <tr>\n",
       "      <th>Month</th>\n",
       "      <th></th>\n",
       "      <th></th>\n",
       "      <th></th>\n",
       "      <th></th>\n",
       "      <th></th>\n",
       "    </tr>\n",
       "  </thead>\n",
       "  <tbody>\n",
       "    <tr>\n",
       "      <th>1971-02-01</th>\n",
       "      <td>3162.0</td>\n",
       "      <td>-772.0</td>\n",
       "      <td>263.0</td>\n",
       "      <td>NaN</td>\n",
       "      <td>NaN</td>\n",
       "    </tr>\n",
       "    <tr>\n",
       "      <th>1971-03-01</th>\n",
       "      <td>4286.0</td>\n",
       "      <td>1124.0</td>\n",
       "      <td>916.0</td>\n",
       "      <td>NaN</td>\n",
       "      <td>NaN</td>\n",
       "    </tr>\n",
       "    <tr>\n",
       "      <th>1971-04-01</th>\n",
       "      <td>4676.0</td>\n",
       "      <td>390.0</td>\n",
       "      <td>936.0</td>\n",
       "      <td>NaN</td>\n",
       "      <td>NaN</td>\n",
       "    </tr>\n",
       "    <tr>\n",
       "      <th>1971-05-01</th>\n",
       "      <td>5010.0</td>\n",
       "      <td>334.0</td>\n",
       "      <td>2083.0</td>\n",
       "      <td>NaN</td>\n",
       "      <td>NaN</td>\n",
       "    </tr>\n",
       "    <tr>\n",
       "      <th>1971-06-01</th>\n",
       "      <td>4874.0</td>\n",
       "      <td>-136.0</td>\n",
       "      <td>888.0</td>\n",
       "      <td>NaN</td>\n",
       "      <td>NaN</td>\n",
       "    </tr>\n",
       "    <tr>\n",
       "      <th>1971-07-01</th>\n",
       "      <td>4633.0</td>\n",
       "      <td>-241.0</td>\n",
       "      <td>416.0</td>\n",
       "      <td>473.073504</td>\n",
       "      <td>4437.325107</td>\n",
       "    </tr>\n",
       "    <tr>\n",
       "      <th>1971-08-01</th>\n",
       "      <td>1659.0</td>\n",
       "      <td>-2974.0</td>\n",
       "      <td>-79.0</td>\n",
       "      <td>218.365659</td>\n",
       "      <td>2050.747727</td>\n",
       "    </tr>\n",
       "    <tr>\n",
       "      <th>1971-09-01</th>\n",
       "      <td>5951.0</td>\n",
       "      <td>4292.0</td>\n",
       "      <td>730.0</td>\n",
       "      <td>107.734371</td>\n",
       "      <td>5493.376652</td>\n",
       "    </tr>\n",
       "    <tr>\n",
       "      <th>1971-10-01</th>\n",
       "      <td>6981.0</td>\n",
       "      <td>1030.0</td>\n",
       "      <td>557.0</td>\n",
       "      <td>59.682132</td>\n",
       "      <td>6752.038813</td>\n",
       "    </tr>\n",
       "    <tr>\n",
       "      <th>1971-11-01</th>\n",
       "      <td>9851.0</td>\n",
       "      <td>2870.0</td>\n",
       "      <td>9.0</td>\n",
       "      <td>38.810843</td>\n",
       "      <td>10327.297203</td>\n",
       "    </tr>\n",
       "    <tr>\n",
       "      <th>1971-12-01</th>\n",
       "      <td>12670.0</td>\n",
       "      <td>2819.0</td>\n",
       "      <td>-406.0</td>\n",
       "      <td>29.745486</td>\n",
       "      <td>13632.323896</td>\n",
       "    </tr>\n",
       "    <tr>\n",
       "      <th>1972-01-01</th>\n",
       "      <td>4348.0</td>\n",
       "      <td>-8322.0</td>\n",
       "      <td>414.0</td>\n",
       "      <td>25.807986</td>\n",
       "      <td>3832.961532</td>\n",
       "    </tr>\n",
       "    <tr>\n",
       "      <th>1972-02-01</th>\n",
       "      <td>3564.0</td>\n",
       "      <td>-784.0</td>\n",
       "      <td>402.0</td>\n",
       "      <td>24.097749</td>\n",
       "      <td>3313.097093</td>\n",
       "    </tr>\n",
       "    <tr>\n",
       "      <th>1972-03-01</th>\n",
       "      <td>4577.0</td>\n",
       "      <td>1013.0</td>\n",
       "      <td>291.0</td>\n",
       "      <td>23.354915</td>\n",
       "      <td>4285.476228</td>\n",
       "    </tr>\n",
       "    <tr>\n",
       "      <th>1972-04-01</th>\n",
       "      <td>4788.0</td>\n",
       "      <td>211.0</td>\n",
       "      <td>112.0</td>\n",
       "      <td>23.032268</td>\n",
       "      <td>4701.092761</td>\n",
       "    </tr>\n",
       "    <tr>\n",
       "      <th>1972-05-01</th>\n",
       "      <td>4618.0</td>\n",
       "      <td>-170.0</td>\n",
       "      <td>-392.0</td>\n",
       "      <td>22.892128</td>\n",
       "      <td>4717.511204</td>\n",
       "    </tr>\n",
       "    <tr>\n",
       "      <th>1972-06-01</th>\n",
       "      <td>5312.0</td>\n",
       "      <td>694.0</td>\n",
       "      <td>438.0</td>\n",
       "      <td>22.831258</td>\n",
       "      <td>4906.404175</td>\n",
       "    </tr>\n",
       "    <tr>\n",
       "      <th>1972-07-01</th>\n",
       "      <td>4298.0</td>\n",
       "      <td>-1014.0</td>\n",
       "      <td>-335.0</td>\n",
       "      <td>22.804820</td>\n",
       "      <td>4685.436778</td>\n",
       "    </tr>\n",
       "    <tr>\n",
       "      <th>1972-08-01</th>\n",
       "      <td>1413.0</td>\n",
       "      <td>-2885.0</td>\n",
       "      <td>-246.0</td>\n",
       "      <td>22.793337</td>\n",
       "      <td>2232.408666</td>\n",
       "    </tr>\n",
       "    <tr>\n",
       "      <th>1972-09-01</th>\n",
       "      <td>5877.0</td>\n",
       "      <td>4464.0</td>\n",
       "      <td>-74.0</td>\n",
       "      <td>NaN</td>\n",
       "      <td>NaN</td>\n",
       "    </tr>\n",
       "  </tbody>\n",
       "</table>\n",
       "</div>"
      ],
      "text/plain": [
       "              Sales  Sales first diff.  Seasonal first diff.    forecast  \\\n",
       "Month                                                                      \n",
       "1971-02-01   3162.0             -772.0                 263.0         NaN   \n",
       "1971-03-01   4286.0             1124.0                 916.0         NaN   \n",
       "1971-04-01   4676.0              390.0                 936.0         NaN   \n",
       "1971-05-01   5010.0              334.0                2083.0         NaN   \n",
       "1971-06-01   4874.0             -136.0                 888.0         NaN   \n",
       "1971-07-01   4633.0             -241.0                 416.0  473.073504   \n",
       "1971-08-01   1659.0            -2974.0                 -79.0  218.365659   \n",
       "1971-09-01   5951.0             4292.0                 730.0  107.734371   \n",
       "1971-10-01   6981.0             1030.0                 557.0   59.682132   \n",
       "1971-11-01   9851.0             2870.0                   9.0   38.810843   \n",
       "1971-12-01  12670.0             2819.0                -406.0   29.745486   \n",
       "1972-01-01   4348.0            -8322.0                 414.0   25.807986   \n",
       "1972-02-01   3564.0             -784.0                 402.0   24.097749   \n",
       "1972-03-01   4577.0             1013.0                 291.0   23.354915   \n",
       "1972-04-01   4788.0              211.0                 112.0   23.032268   \n",
       "1972-05-01   4618.0             -170.0                -392.0   22.892128   \n",
       "1972-06-01   5312.0              694.0                 438.0   22.831258   \n",
       "1972-07-01   4298.0            -1014.0                -335.0   22.804820   \n",
       "1972-08-01   1413.0            -2885.0                -246.0   22.793337   \n",
       "1972-09-01   5877.0             4464.0                 -74.0         NaN   \n",
       "\n",
       "            forecast_SARIMAX  \n",
       "Month                         \n",
       "1971-02-01               NaN  \n",
       "1971-03-01               NaN  \n",
       "1971-04-01               NaN  \n",
       "1971-05-01               NaN  \n",
       "1971-06-01               NaN  \n",
       "1971-07-01       4437.325107  \n",
       "1971-08-01       2050.747727  \n",
       "1971-09-01       5493.376652  \n",
       "1971-10-01       6752.038813  \n",
       "1971-11-01      10327.297203  \n",
       "1971-12-01      13632.323896  \n",
       "1972-01-01       3832.961532  \n",
       "1972-02-01       3313.097093  \n",
       "1972-03-01       4285.476228  \n",
       "1972-04-01       4701.092761  \n",
       "1972-05-01       4717.511204  \n",
       "1972-06-01       4906.404175  \n",
       "1972-07-01       4685.436778  \n",
       "1972-08-01       2232.408666  \n",
       "1972-09-01               NaN  "
      ]
     },
     "execution_count": 43,
     "metadata": {},
     "output_type": "execute_result"
    }
   ],
   "source": [
    "df.tail(20)"
   ]
  },
  {
   "cell_type": "code",
   "execution_count": 44,
   "id": "dce7291d",
   "metadata": {},
   "outputs": [
    {
     "data": {
      "text/plain": [
       "<AxesSubplot:xlabel='Month'>"
      ]
     },
     "execution_count": 44,
     "metadata": {},
     "output_type": "execute_result"
    },
    {
     "data": {
      "image/png": "[encoded data removed]",
      "text/plain": [
       "<Figure size 864x720 with 1 Axes>"
      ]
     },
     "metadata": {
      "needs_background": "light"
     },
     "output_type": "display_data"
    }
   ],
   "source": [
    "df[['Sales','forecast_SARIMAX']].plot(figsize=(12,10))"
   ]
  },
  {
   "cell_type": "markdown",
   "id": "7772c66b",
   "metadata": {},
   "source": [
    "As seen above with the plot, SARIMAX was way better and closer to reality than ARIMA to predict sales."
   ]
  },
  {
   "cell_type": "markdown",
   "id": "3dcecfd5",
   "metadata": {},
   "source": [
    "## Making Predictions on Future Data with SARIMAX"
   ]
  },
  {
   "cell_type": "markdown",
   "id": "48b83471",
   "metadata": {},
   "source": [
    "Now we can use SARIMAX to forecast future data."
   ]
  },
  {
   "cell_type": "code",
   "execution_count": 45,
   "id": "bac383a2",
   "metadata": {
    "scrolled": false
   },
   "outputs": [],
   "source": [
    "future_dates = [df.index[-1] + DateOffset(months=x)for x in range(0,24)]"
   ]
  },
  {
   "cell_type": "code",
   "execution_count": 46,
   "id": "6edb6b2c",
   "metadata": {},
   "outputs": [
    {
     "data": {
      "text/plain": [
       "[Timestamp('1972-10-01 00:00:00'),\n",
       " Timestamp('1972-11-01 00:00:00'),\n",
       " Timestamp('1972-12-01 00:00:00'),\n",
       " Timestamp('1973-01-01 00:00:00'),\n",
       " Timestamp('1973-02-01 00:00:00'),\n",
       " Timestamp('1973-03-01 00:00:00'),\n",
       " Timestamp('1973-04-01 00:00:00'),\n",
       " Timestamp('1973-05-01 00:00:00'),\n",
       " Timestamp('1973-06-01 00:00:00'),\n",
       " Timestamp('1973-07-01 00:00:00'),\n",
       " Timestamp('1973-08-01 00:00:00'),\n",
       " Timestamp('1973-09-01 00:00:00'),\n",
       " Timestamp('1973-10-01 00:00:00'),\n",
       " Timestamp('1973-11-01 00:00:00'),\n",
       " Timestamp('1973-12-01 00:00:00'),\n",
       " Timestamp('1974-01-01 00:00:00'),\n",
       " Timestamp('1974-02-01 00:00:00'),\n",
       " Timestamp('1974-03-01 00:00:00'),\n",
       " Timestamp('1974-04-01 00:00:00'),\n",
       " Timestamp('1974-05-01 00:00:00'),\n",
       " Timestamp('1974-06-01 00:00:00'),\n",
       " Timestamp('1974-07-01 00:00:00'),\n",
       " Timestamp('1974-08-01 00:00:00')]"
      ]
     },
     "execution_count": 46,
     "metadata": {},
     "output_type": "execute_result"
    }
   ],
   "source": [
    "future_dates[1:]"
   ]
  },
  {
   "cell_type": "code",
   "execution_count": 47,
   "id": "4aefdc11",
   "metadata": {},
   "outputs": [],
   "source": [
    "future_dataset = pd.DataFrame(index = future_dates[1:], columns = df.columns)"
   ]
  },
  {
   "cell_type": "code",
   "execution_count": 48,
   "id": "864ee469",
   "metadata": {},
   "outputs": [
    {
     "data": {
      "text/html": [
       "<div>\n",
       "<style scoped>\n",
       "    .dataframe tbody tr th:only-of-type {\n",
       "        vertical-align: middle;\n",
       "    }\n",
       "\n",
       "    .dataframe tbody tr th {\n",
       "        vertical-align: top;\n",
       "    }\n",
       "\n",
       "    .dataframe thead th {\n",
       "        text-align: right;\n",
       "    }\n",
       "</style>\n",
       "<table border=\"1\" class=\"dataframe\">\n",
       "  <thead>\n",
       "    <tr style=\"text-align: right;\">\n",
       "      <th></th>\n",
       "      <th>Sales</th>\n",
       "      <th>Sales first diff.</th>\n",
       "      <th>Seasonal first diff.</th>\n",
       "      <th>forecast</th>\n",
       "      <th>forecast_SARIMAX</th>\n",
       "    </tr>\n",
       "  </thead>\n",
       "  <tbody>\n",
       "    <tr>\n",
       "      <th>1974-04-01</th>\n",
       "      <td>NaN</td>\n",
       "      <td>NaN</td>\n",
       "      <td>NaN</td>\n",
       "      <td>NaN</td>\n",
       "      <td>NaN</td>\n",
       "    </tr>\n",
       "    <tr>\n",
       "      <th>1974-05-01</th>\n",
       "      <td>NaN</td>\n",
       "      <td>NaN</td>\n",
       "      <td>NaN</td>\n",
       "      <td>NaN</td>\n",
       "      <td>NaN</td>\n",
       "    </tr>\n",
       "    <tr>\n",
       "      <th>1974-06-01</th>\n",
       "      <td>NaN</td>\n",
       "      <td>NaN</td>\n",
       "      <td>NaN</td>\n",
       "      <td>NaN</td>\n",
       "      <td>NaN</td>\n",
       "    </tr>\n",
       "    <tr>\n",
       "      <th>1974-07-01</th>\n",
       "      <td>NaN</td>\n",
       "      <td>NaN</td>\n",
       "      <td>NaN</td>\n",
       "      <td>NaN</td>\n",
       "      <td>NaN</td>\n",
       "    </tr>\n",
       "    <tr>\n",
       "      <th>1974-08-01</th>\n",
       "      <td>NaN</td>\n",
       "      <td>NaN</td>\n",
       "      <td>NaN</td>\n",
       "      <td>NaN</td>\n",
       "      <td>NaN</td>\n",
       "    </tr>\n",
       "  </tbody>\n",
       "</table>\n",
       "</div>"
      ],
      "text/plain": [
       "           Sales Sales first diff. Seasonal first diff. forecast  \\\n",
       "1974-04-01   NaN               NaN                  NaN      NaN   \n",
       "1974-05-01   NaN               NaN                  NaN      NaN   \n",
       "1974-06-01   NaN               NaN                  NaN      NaN   \n",
       "1974-07-01   NaN               NaN                  NaN      NaN   \n",
       "1974-08-01   NaN               NaN                  NaN      NaN   \n",
       "\n",
       "           forecast_SARIMAX  \n",
       "1974-04-01              NaN  \n",
       "1974-05-01              NaN  \n",
       "1974-06-01              NaN  \n",
       "1974-07-01              NaN  \n",
       "1974-08-01              NaN  "
      ]
     },
     "execution_count": 48,
     "metadata": {},
     "output_type": "execute_result"
    }
   ],
   "source": [
    "future_dataset.tail()"
   ]
  },
  {
   "cell_type": "code",
   "execution_count": 49,
   "id": "4f146e6b",
   "metadata": {},
   "outputs": [],
   "source": [
    "future_df = pd.concat([df, future_dataset])"
   ]
  },
  {
   "cell_type": "code",
   "execution_count": 50,
   "id": "0bff8bb0",
   "metadata": {},
   "outputs": [
    {
     "data": {
      "text/plain": [
       "(128, 5)"
      ]
     },
     "execution_count": 50,
     "metadata": {},
     "output_type": "execute_result"
    }
   ],
   "source": [
    "future_df.shape"
   ]
  },
  {
   "cell_type": "code",
   "execution_count": 51,
   "id": "0601fad8",
   "metadata": {},
   "outputs": [],
   "source": [
    "future_df['forecast_SARIMAX2'] = results.predict(start=104, end=124, dynamic=True)"
   ]
  },
  {
   "cell_type": "code",
   "execution_count": 52,
   "id": "26c2a7c4",
   "metadata": {
    "scrolled": false
   },
   "outputs": [
    {
     "data": {
      "text/plain": [
       "<AxesSubplot:>"
      ]
     },
     "execution_count": 52,
     "metadata": {},
     "output_type": "execute_result"
    },
    {
     "data": {
      "image/png": "[encoded data removed]",
      "text/plain": [
       "<Figure size 864x576 with 1 Axes>"
      ]
     },
     "metadata": {
      "needs_background": "light"
     },
     "output_type": "display_data"
    }
   ],
   "source": [
    "future_df[['Sales', 'forecast_SARIMAX2']].plot(figsize=(12,8))"
   ]
  },
  {
   "cell_type": "markdown",
   "id": "8cd5cb26",
   "metadata": {},
   "source": [
    "The SARIMAX algorithm estimated the champagne sales for the years 1973 and 1974 as seen in the graph above."
   ]
  }
 ],
 "metadata": {
  "kernelspec": {
   "display_name": "Python 3",
   "language": "python",
   "name": "python3"
  },
  "language_info": {
   "codemirror_mode": {
    "name": "ipython",
    "version": 3
   },
   "file_extension": ".py",
   "mimetype": "text/x-python",
   "name": "python",
   "nbconvert_exporter": "python",
   "pygments_lexer": "ipython3",
   "version": "3.8.8"
  }
 },
 "nbformat": 4,
 "nbformat_minor": 5
}
